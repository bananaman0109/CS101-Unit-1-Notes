{
 "cells": [
  {
   "cell_type": "code",
   "execution_count": 3,
   "metadata": {},
   "outputs": [],
   "source": [
    "bal = 100"
   ]
  },
  {
   "cell_type": "code",
   "execution_count": 5,
   "metadata": {},
   "outputs": [],
   "source": [
    "#shop\n",
    "sword = 10\n",
    "sword2 = 20\n",
    "bow = 20\n",
    "armor = 50\n",
    "potion = 5\n",
    "big_potion = 10\n",
    "choice = input(\"what do you want to buy?\")\n",
    "if choice == \"sword\":\n",
    "    bal -= sword\n",
    "    print(\"You have bought a sword\")\n",
    "    print(bal)\n",
    "elif choice == \"sword2\":\n",
    "    bal -= sword2\n",
    "    print(\"You have upgraded your sword\")\n",
    "    print(bal)\n",
    "elif choice == \"bow\":\n",
    "    bal -= bow\n",
    "    print(\"You have bought a bow\")\n",
    "    print(bal)\n",
    "elif choice == \"armor\":\n",
    "    bal -= armor\n",
    "    print(\"You have bought armor\")\n",
    "    print(bal)\n",
    "elif choice == \"potion\":\n",
    "    bal -= potion\n",
    "    print(\"You have bought a potion\")\n",
    "    print(bal)\n",
    "elif input == \"big_potion\":\n",
    "    bal -= big_potion\n",
    "    print(\"You have bought a big_potion\")\n",
    "    print(bal)\n"
   ]
  },
  {
   "cell_type": "code",
   "execution_count": null,
   "metadata": {},
   "outputs": [],
   "source": []
  }
 ],
 "metadata": {
  "kernelspec": {
   "display_name": "Python 3",
   "language": "python",
   "name": "python3"
  },
  "language_info": {
   "codemirror_mode": {
    "name": "ipython",
    "version": 3
   },
   "file_extension": ".py",
   "mimetype": "text/x-python",
   "name": "python",
   "nbconvert_exporter": "python",
   "pygments_lexer": "ipython3",
   "version": "3.11.5"
  },
  "orig_nbformat": 4
 },
 "nbformat": 4,
 "nbformat_minor": 2
}
