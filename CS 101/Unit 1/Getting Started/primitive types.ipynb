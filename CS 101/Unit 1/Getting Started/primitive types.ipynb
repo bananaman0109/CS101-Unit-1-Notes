{
 "cells": [
  {
   "cell_type": "code",
   "execution_count": 1,
   "metadata": {},
   "outputs": [],
   "source": [
    "a = 5\n",
    "b = 2"
   ]
  },
  {
   "cell_type": "markdown",
   "metadata": {},
   "source": [
    "## basic operations"
   ]
  },
  {
   "cell_type": "code",
   "execution_count": 3,
   "metadata": {},
   "outputs": [
    {
     "name": "stdout",
     "output_type": "stream",
     "text": [
      "addition:  7\n"
     ]
    }
   ],
   "source": [
    "# Addition \n",
    "c = a + b\n",
    "print(\"Addition: \", c)"
   ]
  },
  {
   "cell_type": "code",
   "execution_count": 4,
   "metadata": {},
   "outputs": [
    {
     "name": "stdout",
     "output_type": "stream",
     "text": [
      "Subtraction:  3\n"
     ]
    }
   ],
   "source": [
    "# Subtraction\n",
    "c = a - b\n",
    "print(\"Subtraction: \", c)"
   ]
  },
  {
   "cell_type": "code",
   "execution_count": 9,
   "metadata": {},
   "outputs": [
    {
     "name": "stdout",
     "output_type": "stream",
     "text": [
      "Multiplication:  10\n"
     ]
    }
   ],
   "source": [
    "# Multiplication\n",
    "c = a * b\n",
    "print(\"Multiplication: \", c)"
   ]
  },
  {
   "cell_type": "code",
   "execution_count": 8,
   "metadata": {},
   "outputs": [
    {
     "name": "stdout",
     "output_type": "stream",
     "text": [
      "Division:  2.5\n"
     ]
    }
   ],
   "source": [
    "# Division\n",
    "c = a / b\n",
    "print(\"Division: \", c)"
   ]
  },
  {
   "cell_type": "code",
   "execution_count": 7,
   "metadata": {},
   "outputs": [
    {
     "name": "stdout",
     "output_type": "stream",
     "text": [
      "Remainder:  1\n"
     ]
    }
   ],
   "source": [
    "# Mod (remainder)\n",
    "c = a % b\n",
    "print(\"Remainder: \", c)"
   ]
  },
  {
   "cell_type": "code",
   "execution_count": 16,
   "metadata": {},
   "outputs": [],
   "source": [
    "a = 30\n",
    "b = 35\n",
    "c = 50"
   ]
  },
  {
   "cell_type": "code",
   "execution_count": 17,
   "metadata": {},
   "outputs": [
    {
     "name": "stdout",
     "output_type": "stream",
     "text": [
      "115\n"
     ]
    }
   ],
   "source": [
    "d = a + b + c\n",
    "print(d)"
   ]
  },
  {
   "cell_type": "markdown",
   "metadata": {},
   "source": [
    "## Floats\n",
    "A float is a bumber that has a decimal point or is useed in exponential notation"
   ]
  },
  {
   "cell_type": "code",
   "execution_count": 12,
   "metadata": {},
   "outputs": [],
   "source": [
    "x = 5.7\n",
    "y = 2.3"
   ]
  },
  {
   "cell_type": "markdown",
   "metadata": {},
   "source": [
    "## Basic operation with floats "
   ]
  },
  {
   "cell_type": "code",
   "execution_count": 18,
   "metadata": {},
   "outputs": [
    {
     "name": "stdout",
     "output_type": "stream",
     "text": [
      "Float Addition: 8.0\n"
     ]
    }
   ],
   "source": [
    "# Addition\n",
    "z = x + y \n",
    "print(f\"Float Addition: {z}\")"
   ]
  },
  {
   "cell_type": "code",
   "execution_count": 17,
   "metadata": {},
   "outputs": [
    {
     "name": "stdout",
     "output_type": "stream",
     "text": [
      "Float Subtraction: 3.4000000000000004\n"
     ]
    }
   ],
   "source": [
    "# Subtraction\n",
    "z = x - y \n",
    "print(f\"Float Subtraction: {z}\")"
   ]
  },
  {
   "cell_type": "code",
   "execution_count": 16,
   "metadata": {},
   "outputs": [
    {
     "name": "stdout",
     "output_type": "stream",
     "text": [
      "Float Multiplication: 13.11\n"
     ]
    }
   ],
   "source": [
    "# Multiplication\n",
    "z = x * y \n",
    "print(f\"Float Multiplication: {z}\")"
   ]
  },
  {
   "cell_type": "code",
   "execution_count": 15,
   "metadata": {},
   "outputs": [
    {
     "name": "stdout",
     "output_type": "stream",
     "text": [
      "Float Division: 2.4782608695652177\n"
     ]
    }
   ],
   "source": [
    "# Division\n",
    "z = x / y \n",
    "print(f\"Float Division: {z}\")"
   ]
  },
  {
   "cell_type": "code",
   "execution_count": 14,
   "metadata": {},
   "outputs": [
    {
     "name": "stdout",
     "output_type": "stream",
     "text": [
      "Float Mod: 1.1000000000000005\n"
     ]
    }
   ],
   "source": [
    "# Mod (remainder)\n",
    "z = x % y \n",
    "print(f\"Float Mod: {z}\")"
   ]
  },
  {
   "cell_type": "code",
   "execution_count": null,
   "metadata": {},
   "outputs": [],
   "source": [
    "a = 30.50\n",
    "b = 45.75\n",
    "c = 60.50"
   ]
  },
  {
   "cell_type": "code",
   "execution_count": null,
   "metadata": {},
   "outputs": [],
   "source": [
    "d = a + b + c \n",
    "print(d)\n",
    "e = a + b + c - 10\n",
    "print(e)"
   ]
  },
  {
   "cell_type": "markdown",
   "metadata": {},
   "source": [
    "Strings\n",
    "A string is a sequcnce of characters. Strings are used for storing text."
   ]
  },
  {
   "cell_type": "code",
   "execution_count": 19,
   "metadata": {},
   "outputs": [],
   "source": [
    "str1 = \"Hello\"\n",
    "str2 = \"World\"\n",
    "name = \"Ryan\""
   ]
  },
  {
   "cell_type": "code",
   "execution_count": 20,
   "metadata": {},
   "outputs": [
    {
     "name": "stdout",
     "output_type": "stream",
     "text": [
      "Hello World\n"
     ]
    }
   ],
   "source": [
    "# Concatination 'fancy' word for additiion with strings\n",
    "result = str1 + \" \" + str2\n",
    "print(result)\n"
   ]
  },
  {
   "cell_type": "code",
   "execution_count": 21,
   "metadata": {},
   "outputs": [
    {
     "name": "stdout",
     "output_type": "stream",
     "text": [
      "HelloHelloHello\n"
     ]
    }
   ],
   "source": [
    "# Multiplication\n",
    "result = str1 * 3\n",
    "print(result)"
   ]
  },
  {
   "cell_type": "markdown",
   "metadata": {},
   "source": [
    "Create a variable for firstname and lastname\n",
    "Write a program to greet the user"
   ]
  },
  {
   "cell_type": "code",
   "execution_count": 28,
   "metadata": {},
   "outputs": [
    {
     "name": "stdout",
     "output_type": "stream",
     "text": [
      "Hello Ryan Fischer\n"
     ]
    }
   ],
   "source": [
    "str1 = \"Ryan\"\n",
    "str2 = \"Fischer\"\n",
    "name = str1 + \" \" + str2\n",
    "\n",
    "print(\"Hello\", name)"
   ]
  },
  {
   "cell_type": "code",
   "execution_count": 24,
   "metadata": {},
   "outputs": [
    {
     "name": "stdout",
     "output_type": "stream",
     "text": [
      "Ry\n"
     ]
    }
   ],
   "source": [
    "# Slicing\n",
    "name = \"Ryan\"\n",
    "print(name[:2])"
   ]
  },
  {
   "cell_type": "code",
   "execution_count": 39,
   "metadata": {},
   "outputs": [
    {
     "name": "stdout",
     "output_type": "stream",
     "text": [
      "Ryan \n",
      "5\n"
     ]
    }
   ],
   "source": [
    "name = \"Ryan Fischer\" \n",
    "nameslice = name[:5]\n",
    "print(nameslice)\n",
    "print(len(nameslice))"
   ]
  },
  {
   "cell_type": "code",
   "execution_count": null,
   "metadata": {},
   "outputs": [],
   "source": [
    "#Length\n",
    "name = \"Ryan\"\n",
    "print(len(name))"
   ]
  },
  {
   "cell_type": "markdown",
   "metadata": {},
   "source": [
    "## Booleans\n",
    "A Boolean type has two possible values: True or False"
   ]
  },
  {
   "cell_type": "code",
   "execution_count": null,
   "metadata": {},
   "outputs": [],
   "source": [
    "bool1 = True\n",
    "bool2 = False"
   ]
  },
  {
   "cell_type": "markdown",
   "metadata": {},
   "source": [
    "## Basic Operations with Booleans"
   ]
  },
  {
   "cell_type": "code",
   "execution_count": null,
   "metadata": {},
   "outputs": [],
   "source": [
    "# and make sure both booleans are true, or makes sure one is true,\n",
    "# not makes sure boolean is not true\n"
   ]
  },
  {
   "cell_type": "markdown",
   "metadata": {},
   "source": [
    "# I/O\n",
    "we can prompt the user for input using 'input' function"
   ]
  },
  {
   "cell_type": "code",
   "execution_count": 40,
   "metadata": {},
   "outputs": [],
   "source": [
    "name = input(\"Please enter your name.\")"
   ]
  },
  {
   "cell_type": "code",
   "execution_count": 41,
   "metadata": {},
   "outputs": [
    {
     "name": "stdout",
     "output_type": "stream",
     "text": [
      "Ryan\n"
     ]
    }
   ],
   "source": [
    "print(name)"
   ]
  }
 ],
 "metadata": {
  "kernelspec": {
   "display_name": "Python 3",
   "language": "python",
   "name": "python3"
  },
  "language_info": {
   "codemirror_mode": {
    "name": "ipython",
    "version": 3
   },
   "file_extension": ".py",
   "mimetype": "text/x-python",
   "name": "python",
   "nbconvert_exporter": "python",
   "pygments_lexer": "ipython3",
   "version": "3.11.5"
  },
  "orig_nbformat": 4
 },
 "nbformat": 4,
 "nbformat_minor": 2
}
