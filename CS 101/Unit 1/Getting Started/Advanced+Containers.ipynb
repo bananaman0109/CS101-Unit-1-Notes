{
 "cells": [
  {
   "cell_type": "markdown",
   "metadata": {},
   "source": [
    "# Advanced Containers Lesson\n",
    "\n",
    "## Introduction\n",
    "\n",
    "Today we will dive deeper into Python data structures, particularly focusing on the nesting of Lists, Dictionaries, and Tuples. This extends the data manipulation capabilities we discussed in previous lessons."
   ]
  },
  {
   "cell_type": "markdown",
   "metadata": {},
   "source": [
    "## Review of Previous Lessons on Primitive Types and Data Structures\n",
    "\n",
    "Before we get started, let's do a quick review of primitive types and non-nested data structures like Lists, Dictionaries, and Tuples.\n",
    "\n"
   ]
  },
  {
   "cell_type": "code",
   "execution_count": 2,
   "metadata": {},
   "outputs": [
    {
     "name": "stdout",
     "output_type": "stream",
     "text": [
      "<class 'int'> <class 'str'> <class 'list'> <class 'dict'> <class 'tuple'>\n"
     ]
    }
   ],
   "source": [
    "# Quick review of types and type checking\n",
    "a = 10\n",
    "b = \"hello\"\n",
    "c = [1, 2, 3]\n",
    "d = {\"key\": \"value\"}\n",
    "e = (1, 2, 3)\n",
    "\n",
    "print(type(a), type(b), type(c), type(d), type(e))"
   ]
  },
  {
   "cell_type": "markdown",
   "metadata": {},
   "source": [
    "## Nested Lists\n",
    "\n",
    "Nested lists are lists within lists. They can be used for multidimensional arrays, among other things."
   ]
  },
  {
   "cell_type": "code",
   "execution_count": null,
   "metadata": {},
   "outputs": [],
   "source": [
    "# Example of a nested list\n",
    "nested_list = [[1, 2, 3], [4, 5, 6], [7, 8, 9]]\n",
    "print(nested_list)\n",
    "print(type(nested_list))"
   ]
  },
  {
   "cell_type": "code",
   "execution_count": null,
   "metadata": {},
   "outputs": [],
   "source": [
    "# Accessing elements in a nested list\n",
    "print(nested_list[0][1])  # Should print 2"
   ]
  },
  {
   "cell_type": "markdown",
   "metadata": {},
   "source": [
    "Problem 1: Create a list containing two other lists."
   ]
  },
  {
   "cell_type": "code",
   "execution_count": null,
   "metadata": {},
   "outputs": [],
   "source": []
  },
  {
   "cell_type": "markdown",
   "metadata": {},
   "source": [
    "Problem 2: Access the first element in the first list."
   ]
  },
  {
   "cell_type": "code",
   "execution_count": null,
   "metadata": {},
   "outputs": [],
   "source": []
  },
  {
   "cell_type": "markdown",
   "metadata": {},
   "source": [
    "## Nested Dictionaries\n",
    "\n",
    "Dictionaries can also contain other dictionaries, enabling a hierarchical key-value storage system."
   ]
  },
  {
   "cell_type": "code",
   "execution_count": 1,
   "metadata": {},
   "outputs": [
    {
     "name": "stdout",
     "output_type": "stream",
     "text": [
      "{'info': {'name': 'Alice', 'age': 30}, 'contact': {'email': 'alice@email.com', 'phone': '123-456-7890'}}\n",
      "<class 'dict'>\n"
     ]
    }
   ],
   "source": [
    "# Example of a nested dictionary\n",
    "nested_dict = {\n",
    "    \"info\": {\"name\": \"Alice\", \"age\": 30},\n",
    "    \"contact\": {\"email\": \"alice@email.com\", \"phone\": \"123-456-7890\"}\n",
    "}\n",
    "\n",
    "print(nested_dict)\n",
    "print(type(nested_dict))"
   ]
  },
  {
   "cell_type": "code",
   "execution_count": 4,
   "metadata": {},
   "outputs": [
    {
     "name": "stdout",
     "output_type": "stream",
     "text": [
      "Alice\n"
     ]
    }
   ],
   "source": [
    "# Accessing nested dictionary elements\n",
    "print(nested_dict[\"info\"][\"name\"])  # Should print \"Alice\""
   ]
  },
  {
   "cell_type": "markdown",
   "metadata": {},
   "source": [
    "Problem 3: Create a dictionary that contains another dictionary."
   ]
  },
  {
   "cell_type": "code",
   "execution_count": 13,
   "metadata": {},
   "outputs": [
    {
     "name": "stdout",
     "output_type": "stream",
     "text": [
      "{'user': {'name': 'Ryan', 'name2': 'fischer', 'age': 15}, 'course': {'math': 95, 'CS': 100}}\n"
     ]
    }
   ],
   "source": [
    "dictionary = {\n",
    "    \"user\": {\"name\": \"Ryan\", \"name2\": \"fischer\", \"age\": 15},\n",
    "    \"course\": {\"math\": 95, \"CS\": 100}\n",
    "}\n",
    "print(dictionary)"
   ]
  },
  {
   "cell_type": "code",
   "execution_count": 14,
   "metadata": {},
   "outputs": [
    {
     "name": "stdout",
     "output_type": "stream",
     "text": [
      "{'name': 'Ryan', 'name2': 'fischer', 'age': 15}\n"
     ]
    }
   ],
   "source": [
    "print(dictionary[\"user\"])"
   ]
  },
  {
   "cell_type": "markdown",
   "metadata": {},
   "source": [
    "## Nested Tuples and Mixed Nesting\n",
    "\n",
    "Tuples can contain other tuples, lists, or dictionaries. Similarly, lists and dictionaries can contain tuples."
   ]
  },
  {
   "cell_type": "code",
   "execution_count": 18,
   "metadata": {},
   "outputs": [
    {
     "name": "stdout",
     "output_type": "stream",
     "text": [
      "(1, [2, 3], {'key': 'value'})\n",
      "<class 'tuple'>\n"
     ]
    }
   ],
   "source": [
    "# Example of a nested tuple and mixed nesting\n",
    "nt = (1, [2, 3], {\"key\": \"value\"})\n",
    "print(nt)\n",
    "print(type(nt))"
   ]
  },
  {
   "cell_type": "code",
   "execution_count": 20,
   "metadata": {},
   "outputs": [
    {
     "name": "stdout",
     "output_type": "stream",
     "text": [
      "[2, 3]\n",
      "value\n"
     ]
    }
   ],
   "source": [
    "# Accessing elements\n",
    "print(nt[1][0])  # Should print 2\n",
    "print(nt[2][\"key\"])  # Should print \"value\""
   ]
  },
  {
   "cell_type": "markdown",
   "metadata": {},
   "source": [
    "Problem 4: Create a tuple that contains a dictionary and a list."
   ]
  },
  {
   "cell_type": "code",
   "execution_count": 1,
   "metadata": {},
   "outputs": [],
   "source": [
    "t = (1, [2,3])"
   ]
  },
  {
   "cell_type": "markdown",
   "metadata": {},
   "source": [
    "## In Class Practice"
   ]
  },
  {
   "cell_type": "markdown",
   "metadata": {},
   "source": [
    "Problem 1: Write a dictionary acting as a \"database\"\n",
    "- the \"username\" key corresponds to a list of strings that contain usernames\n",
    "- the \"password\" key corresponds to a list of strings containing the passwords"
   ]
  },
  {
   "cell_type": "code",
   "execution_count": null,
   "metadata": {},
   "outputs": [],
   "source": [
    "database = {\n",
    "    \"username\":[\"user 1\", \"user2\"],\n",
    "    \"password\":[\"1234\", \"4321\"],\n",
    "}"
   ]
  },
  {
   "cell_type": "markdown",
   "metadata": {},
   "source": [
    "Problem 2: Write a dictionary that represents students in a college where each department is the key (Math, Science, Engineering, Art, Computer Science)\n",
    "- each department acts as the key corresponding to a list of students in that department"
   ]
  },
  {
   "cell_type": "code",
   "execution_count": null,
   "metadata": {},
   "outputs": [],
   "source": [
    "d = {\n",
    "    \"math\": [\"person1\", \"person2\", \"person3\"],\n",
    "    \"english\": [\"person1\", \"person2\", \"person3\"],\n",
    "}"
   ]
  },
  {
   "cell_type": "markdown",
   "metadata": {},
   "source": [
    "Problem 3: (challenge) Write a tuple that contains a list and a dictionary\n",
    "- access elements in the list\n",
    "- access elements in the dictionary"
   ]
  },
  {
   "cell_type": "code",
   "execution_count": 3,
   "metadata": {},
   "outputs": [
    {
     "data": {
      "text/plain": [
       "(1, [2, 3], {'value': 'key'})"
      ]
     },
     "execution_count": 3,
     "metadata": {},
     "output_type": "execute_result"
    }
   ],
   "source": [
    "t = (1,[2,3],{\"key\":\"value\"})"
   ]
  },
  {
   "cell_type": "markdown",
   "metadata": {},
   "source": [
    "## Summary\n",
    "\n",
    "Today, we delved into the concept of nested data structures in Python, covering nested Lists, Dictionaries, and Tuples. These nesting capabilities allow us to create complex data structures, enriching our ability to model and solve real-world problems."
   ]
  }
 ],
 "metadata": {
  "kernelspec": {
   "display_name": "Python 3",
   "language": "python",
   "name": "python3"
  },
  "language_info": {
   "codemirror_mode": {
    "name": "ipython",
    "version": 3
   },
   "file_extension": ".py",
   "mimetype": "text/x-python",
   "name": "python",
   "nbconvert_exporter": "python",
   "pygments_lexer": "ipython3",
   "version": "3.11.5"
  },
  "orig_nbformat": 4
 },
 "nbformat": 4,
 "nbformat_minor": 2
}
