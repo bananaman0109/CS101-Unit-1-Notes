{
 "cells": [
  {
   "cell_type": "markdown",
   "metadata": {},
   "source": [
    "# if Statements"
   ]
  },
  {
   "cell_type": "code",
   "execution_count": null,
   "metadata": {},
   "outputs": [],
   "source": [
    "#example of an if statement\n",
    "age = 25\n",
    "\n",
    "if age >= 18:\n",
    "    print(\"You are old enough to vote.\")"
   ]
  },
  {
   "cell_type": "code",
   "execution_count": 3,
   "metadata": {},
   "outputs": [
    {
     "name": "stdout",
     "output_type": "stream",
     "text": [
      "bring a raincoat\n"
     ]
    }
   ],
   "source": [
    "raining = True\n",
    "if raining == True:\n",
    "    print(\"bring a rain coat\")"
   ]
  },
  {
   "cell_type": "markdown",
   "metadata": {},
   "source": [
    "# else Statements"
   ]
  },
  {
   "cell_type": "code",
   "execution_count": 5,
   "metadata": {},
   "outputs": [
    {
     "name": "stdout",
     "output_type": "stream",
     "text": [
      "You are not old enough to vote.\n"
     ]
    }
   ],
   "source": [
    "# example of an if-else statement\n",
    "age = 18\n",
    "if age >= 18:\n",
    "    print(\"You are old enough to vote.\")\n",
    "else:\n",
    "    print(\"You are not old enough to vote.\")"
   ]
  },
  {
   "cell_type": "code",
   "execution_count": 9,
   "metadata": {},
   "outputs": [
    {
     "name": "stdout",
     "output_type": "stream",
     "text": [
      "bring a rain coat\n"
     ]
    }
   ],
   "source": [
    "raining = True\n",
    "if raining == True:\n",
    "    print(\"bring a rain coat\")\n",
    "else:\n",
    "    print(\"don't bring a rain coat\")"
   ]
  },
  {
   "cell_type": "markdown",
   "metadata": {},
   "source": [
    "# elif Statements"
   ]
  },
  {
   "cell_type": "code",
   "execution_count": 13,
   "metadata": {},
   "outputs": [
    {
     "name": "stdout",
     "output_type": "stream",
     "text": [
      "You are not a teenager or older and you can't vote.\n"
     ]
    }
   ],
   "source": [
    "# Example of an if-elif-else statement\n",
    "age = 10\n",
    "\n",
    "if age >= 18:\n",
    "    print(\"You are old enough to vote\")\n",
    "elif age >= 13:\n",
    "    print(\"You are a teenager or older\")\n",
    "else:\n",
    "    print(\"You are not a teenager or older and you can't vote.\")"
   ]
  },
  {
   "cell_type": "code",
   "execution_count": 19,
   "metadata": {},
   "outputs": [
    {
     "name": "stdout",
     "output_type": "stream",
     "text": [
      "Weather Unknown\n"
     ]
    }
   ],
   "source": [
    "raining = False\n",
    "sunny = False\n",
    "if raining == True:\n",
    "    print(\"Its Raining.\")\n",
    "elif sunny == True:\n",
    "    print(\"Its Sunny.\")\n",
    "else:\n",
    "    print(\"Weather Unknown.\")"
   ]
  },
  {
   "cell_type": "markdown",
   "metadata": {},
   "source": [
    "# Using and and or Keywords"
   ]
  },
  {
   "cell_type": "code",
   "execution_count": 25,
   "metadata": {},
   "outputs": [
    {
     "name": "stdout",
     "output_type": "stream",
     "text": [
      "You are either of age or citizen.\n"
     ]
    }
   ],
   "source": [
    "# Example using and, or keywords\n",
    "age = 25\n",
    "citizen = True\n",
    "\n",
    "if age >= 18 and citizen:\n",
    "    print(\"You are of age and a citizen so you are eligible to vote.\")\n",
    "\n",
    "elif age >= 18 or citizen:\n",
    "    print(\"You are either of age or citizen.\")\n"
   ]
  },
  {
   "cell_type": "code",
   "execution_count": 1,
   "metadata": {},
   "outputs": [
    {
     "name": "stdout",
     "output_type": "stream",
     "text": [
      "Its Raining and Cloudy.\n"
     ]
    }
   ],
   "source": [
    "raining = True\n",
    "sunny = False\n",
    "if raining == True and sunny == True:\n",
    "    print(\"Its Raining and Sunny.\")\n",
    "elif raining == True and sunny == False:\n",
    "    print(\"Its Raining and Cloudy.\")\n",
    "else:\n",
    "    print(\"Weather unknown\")\n"
   ]
  },
  {
   "cell_type": "code",
   "execution_count": null,
   "metadata": {},
   "outputs": [],
   "source": []
  }
 ],
 "metadata": {
  "kernelspec": {
   "display_name": "Python 3",
   "language": "python",
   "name": "python3"
  },
  "language_info": {
   "codemirror_mode": {
    "name": "ipython",
    "version": 3
   },
   "file_extension": ".py",
   "mimetype": "text/x-python",
   "name": "python",
   "nbconvert_exporter": "python",
   "pygments_lexer": "ipython3",
   "version": "3.11.5"
  },
  "orig_nbformat": 4
 },
 "nbformat": 4,
 "nbformat_minor": 2
}
