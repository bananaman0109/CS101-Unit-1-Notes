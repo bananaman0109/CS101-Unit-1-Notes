{
 "cells": [
  {
   "cell_type": "code",
   "execution_count": 6,
   "metadata": {},
   "outputs": [
    {
     "name": "stdout",
     "output_type": "stream",
     "text": [
      "-5\n"
     ]
    }
   ],
   "source": [
    "Given_list = [2,5,10,-5,7,3,1]\n",
    "x = Given_list[0]\n",
    "minval = Given_list[0]\n",
    "for l in Given_list: \n",
    "    if l < minval:\n",
    "        minval = l\n",
    "print(minval)"
   ]
  },
  {
   "cell_type": "code",
   "execution_count": 18,
   "metadata": {},
   "outputs": [
    {
     "name": "stdout",
     "output_type": "stream",
     "text": [
      "True\n"
     ]
    }
   ],
   "source": [
    "Given_list = [0,7,8,-5,-20,1,2]\n",
    "x = False\n",
    "for l in Given_list: \n",
    "    if l < 0:\n",
    "        x = True\n",
    "        break\n",
    "print(x)\n",
    "        \n"
   ]
  }
 ],
 "metadata": {
  "kernelspec": {
   "display_name": "Python 3",
   "language": "python",
   "name": "python3"
  },
  "language_info": {
   "codemirror_mode": {
    "name": "ipython",
    "version": 3
   },
   "file_extension": ".py",
   "mimetype": "text/x-python",
   "name": "python",
   "nbconvert_exporter": "python",
   "pygments_lexer": "ipython3",
   "version": "3.11.5"
  }
 },
 "nbformat": 4,
 "nbformat_minor": 2
}
